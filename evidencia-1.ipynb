{
 "cells": [
  {
   "cell_type": "code",
   "execution_count": 1,
   "metadata": {},
   "outputs": [
    {
     "name": "stdout",
     "output_type": "stream",
     "text": [
      "Requirement already satisfied: appnope==0.1.3 in ./.venv/lib/python3.11/site-packages (from -r requirements.txt (line 1)) (0.1.3)\n",
      "Requirement already satisfied: asttokens==2.4.1 in ./.venv/lib/python3.11/site-packages (from -r requirements.txt (line 2)) (2.4.1)\n",
      "Requirement already satisfied: comm==0.2.1 in ./.venv/lib/python3.11/site-packages (from -r requirements.txt (line 3)) (0.2.1)\n",
      "Requirement already satisfied: contourpy==1.2.0 in ./.venv/lib/python3.11/site-packages (from -r requirements.txt (line 4)) (1.2.0)\n",
      "Requirement already satisfied: cycler==0.12.1 in ./.venv/lib/python3.11/site-packages (from -r requirements.txt (line 5)) (0.12.1)\n",
      "Requirement already satisfied: debugpy==1.8.0 in ./.venv/lib/python3.11/site-packages (from -r requirements.txt (line 6)) (1.8.0)\n",
      "Requirement already satisfied: decorator==5.1.1 in ./.venv/lib/python3.11/site-packages (from -r requirements.txt (line 7)) (5.1.1)\n",
      "Requirement already satisfied: executing==2.0.1 in ./.venv/lib/python3.11/site-packages (from -r requirements.txt (line 8)) (2.0.1)\n",
      "Requirement already satisfied: fonttools==4.47.2 in ./.venv/lib/python3.11/site-packages (from -r requirements.txt (line 9)) (4.47.2)\n",
      "Requirement already satisfied: ipykernel==6.29.0 in ./.venv/lib/python3.11/site-packages (from -r requirements.txt (line 10)) (6.29.0)\n",
      "Requirement already satisfied: ipython==8.20.0 in ./.venv/lib/python3.11/site-packages (from -r requirements.txt (line 11)) (8.20.0)\n",
      "Requirement already satisfied: jedi==0.19.1 in ./.venv/lib/python3.11/site-packages (from -r requirements.txt (line 12)) (0.19.1)\n",
      "Requirement already satisfied: jupyter_client==8.6.0 in ./.venv/lib/python3.11/site-packages (from -r requirements.txt (line 13)) (8.6.0)\n",
      "Requirement already satisfied: jupyter_core==5.7.1 in ./.venv/lib/python3.11/site-packages (from -r requirements.txt (line 14)) (5.7.1)\n",
      "Requirement already satisfied: kiwisolver==1.4.5 in ./.venv/lib/python3.11/site-packages (from -r requirements.txt (line 15)) (1.4.5)\n",
      "Requirement already satisfied: matplotlib==3.8.2 in ./.venv/lib/python3.11/site-packages (from -r requirements.txt (line 16)) (3.8.2)\n",
      "Requirement already satisfied: matplotlib-inline==0.1.6 in ./.venv/lib/python3.11/site-packages (from -r requirements.txt (line 17)) (0.1.6)\n",
      "Requirement already satisfied: nest-asyncio==1.6.0 in ./.venv/lib/python3.11/site-packages (from -r requirements.txt (line 18)) (1.6.0)\n",
      "Requirement already satisfied: numpy==1.26.3 in ./.venv/lib/python3.11/site-packages (from -r requirements.txt (line 19)) (1.26.3)\n",
      "Requirement already satisfied: packaging==23.2 in ./.venv/lib/python3.11/site-packages (from -r requirements.txt (line 20)) (23.2)\n",
      "Requirement already satisfied: parso==0.8.3 in ./.venv/lib/python3.11/site-packages (from -r requirements.txt (line 21)) (0.8.3)\n",
      "Requirement already satisfied: pexpect==4.9.0 in ./.venv/lib/python3.11/site-packages (from -r requirements.txt (line 22)) (4.9.0)\n",
      "Requirement already satisfied: pillow==10.2.0 in ./.venv/lib/python3.11/site-packages (from -r requirements.txt (line 23)) (10.2.0)\n",
      "Requirement already satisfied: platformdirs==4.1.0 in ./.venv/lib/python3.11/site-packages (from -r requirements.txt (line 24)) (4.1.0)\n",
      "Requirement already satisfied: prompt-toolkit==3.0.43 in ./.venv/lib/python3.11/site-packages (from -r requirements.txt (line 25)) (3.0.43)\n",
      "Requirement already satisfied: psutil==5.9.8 in ./.venv/lib/python3.11/site-packages (from -r requirements.txt (line 26)) (5.9.8)\n",
      "Requirement already satisfied: ptyprocess==0.7.0 in ./.venv/lib/python3.11/site-packages (from -r requirements.txt (line 27)) (0.7.0)\n",
      "Requirement already satisfied: pure-eval==0.2.2 in ./.venv/lib/python3.11/site-packages (from -r requirements.txt (line 28)) (0.2.2)\n",
      "Requirement already satisfied: Pygments==2.17.2 in ./.venv/lib/python3.11/site-packages (from -r requirements.txt (line 29)) (2.17.2)\n",
      "Requirement already satisfied: pyparsing==3.1.1 in ./.venv/lib/python3.11/site-packages (from -r requirements.txt (line 30)) (3.1.1)\n",
      "Requirement already satisfied: python-dateutil==2.8.2 in ./.venv/lib/python3.11/site-packages (from -r requirements.txt (line 31)) (2.8.2)\n",
      "Requirement already satisfied: pyzmq==25.1.2 in ./.venv/lib/python3.11/site-packages (from -r requirements.txt (line 32)) (25.1.2)\n",
      "Requirement already satisfied: six==1.16.0 in ./.venv/lib/python3.11/site-packages (from -r requirements.txt (line 33)) (1.16.0)\n",
      "Requirement already satisfied: stack-data==0.6.3 in ./.venv/lib/python3.11/site-packages (from -r requirements.txt (line 34)) (0.6.3)\n",
      "Requirement already satisfied: tornado==6.4 in ./.venv/lib/python3.11/site-packages (from -r requirements.txt (line 35)) (6.4)\n",
      "Requirement already satisfied: traitlets==5.14.1 in ./.venv/lib/python3.11/site-packages (from -r requirements.txt (line 36)) (5.14.1)\n",
      "Requirement already satisfied: wcwidth==0.2.13 in ./.venv/lib/python3.11/site-packages (from -r requirements.txt (line 37)) (0.2.13)\n"
     ]
    }
   ],
   "source": [
    "!pip install -r requirements.txt"
   ]
  },
  {
   "cell_type": "code",
   "execution_count": 2,
   "metadata": {},
   "outputs": [],
   "source": [
    "import numpy as np"
   ]
  },
  {
   "cell_type": "markdown",
   "metadata": {},
   "source": [
    "# Sistema Masa Resorte\n",
    "\n",
    "## Problema\n",
    "\n",
    "Considera un sistema masa-resorte en un plano horizontal, en el cual un resorte está unido a un punto fijo \n",
    "y del otro extremo a una masa de 0.5 kg, se inicia el movimiento con el resorte estirado a 10 cm, por último, \n",
    "sabemos que la constante del resorte es de 50 N/m.\n",
    "Determina el periodo del sistema.\n",
    "\n",
    "Obtén:\n",
    "* Posición\n",
    "* Velocidad \n",
    "* Aceleración \n",
    "\n",
    "en un tiempo de un segundo."
   ]
  },
  {
   "cell_type": "code",
   "execution_count": 3,
   "metadata": {},
   "outputs": [
    {
     "name": "stdout",
     "output_type": "stream",
     "text": [
      "Frecuencia angular: 10.000 rad/s\n",
      "Periodo:  0.628 s\n",
      "Frecuencia: 1.592 Hz\n",
      "Posición x(t): -0.084 m\n",
      "Velocidad v(t): 54.402 cm/s\n",
      "Aceleración a(t):  8.391 m/s^2\n"
     ]
    }
   ],
   "source": [
    "m = 0.5 # masa en kg\n",
    "k = 50 # constante del resorte en N/m\n",
    "A = 0.1 # amplitud en m\n",
    "t = 1 # tiempo en s para calcular la posición\n",
    "\n",
    "# calculo de la frecuencia angular\n",
    "omega = np.sqrt(k/m) # frecuencia angular en rad/s\n",
    "print(\"Frecuencia angular:\", f\"{omega:.3f}\", \"rad/s\")\n",
    "\n",
    "# calculo del periodo\n",
    "T = round(2 * np.pi * np.sqrt(m/k), 3) # periodo en s\n",
    "print(\"Periodo: \", f\"{T:.3f}\", \"s\")\n",
    "\n",
    "# calculo de la frecuencia\n",
    "f = round(1/T, 3) # frecuencia en Hz\n",
    "print(\"Frecuencia:\", f, \"Hz\")\n",
    "\n",
    "# calculo de la posición\n",
    "x_t = round(A * np.cos(omega * t), 3)\n",
    "print(\"Posición x(t):\", x_t, \"m\")\n",
    "\n",
    "# calculo de la velocidad en cm/s\n",
    "v_t = round(-A * omega * np.sin(omega * t) * 100, 3)\n",
    "print(\"Velocidad v(t):\", v_t, \"cm/s\")\n",
    "\n",
    "# calculo de la aceleración\n",
    "a_t = round(-A * (omega ** 2) * np.cos(omega * t), 3)\n",
    "print(\"Aceleración a(t): \", a_t, \"m/s^2\")\n"
   ]
  },
  {
   "cell_type": "markdown",
   "metadata": {},
   "source": [
    "# Datos\n",
    "\n",
    "$m = 0.5 kg$\n",
    "\n",
    "$k = 50 N/m$\n",
    "\n",
    "$A = 10cm = 0.1 m$\n",
    "\n",
    "$t = 1 s$\n",
    "\n",
    "$\\phi = 0$\n",
    "\n",
    "$\\omega = \\sqrt{\\frac{k}{m}} = \\sqrt{\\frac{50}{0.5}} = 10 rad/s$"
   ]
  },
  {
   "cell_type": "markdown",
   "metadata": {},
   "source": []
  },
  {
   "cell_type": "markdown",
   "metadata": {},
   "source": [
    "# Solución\n",
    "\n",
    "## Operaciones en base al código previo\n",
    "\n",
    "Calculo del periodo: \n",
    "\n",
    "$T = 2\\pi\\sqrt{\\frac{m}{k}} = 2\\pi\\sqrt{\\frac{0.5}{50}} = 0.628 s$\n",
    "\n",
    "\n",
    "Calculo de la frecuencia: \n",
    "\n",
    "$f = \\frac{1}{T} = \\frac{1}{0.628} = 1.592 Hz$\n",
    "\n",
    "\n",
    "Calculo de la posición: \n",
    "\n",
    "$X(t) = A\\cos(\\omega t + \\phi) = 0.1\\cos(10t + \\phi) = 0.1\\cos(10t) = 0.1\\cos(10) = 0.1(-0.839) = -0.084 m$\n",
    "\n",
    "\n",
    "Calculo de la velocidad: \n",
    "\n",
    "$v(t) = -A\\omega\\sin(\\omega t + \\phi) = -0.1(10)\\sin(10t + \\phi) = -0.1(10)\\sin(10t) = -0.1(10)\\sin(10) = -0.1(0.544) = -0.05402 m/s = 54.402 cm/s$\n",
    "\n",
    "\n",
    "Calculo de la aceleracion: \n",
    "\n",
    "$a(t) = -A\\omega^2\\cos(\\omega t + \\phi) = -0.1(10)^2\\cos(10t + \\phi) = -0.1(10)^2\\cos(10t) = -0.1(10)^2\\cos(10) = -0.1(10)^2(-0.839) = -8.391 m/s^2$\n"
   ]
  },
  {
   "cell_type": "markdown",
   "metadata": {},
   "source": [
    "-----------------"
   ]
  },
  {
   "cell_type": "markdown",
   "metadata": {},
   "source": [
    "# Pendulo Simple\n",
    "\n",
    "## Problema\n",
    "\n",
    "Determina el periodo de un péndulo simple situado en el planeta Tierra que tiene una \n",
    "longitud de cuerda de 1.2 metros y después demuéstralo con el simulador de VASCAK \n",
    "https://www.vascak.cz/data/android/physicsatschool/template.php?s=kv_kyvadlo&l=es"
   ]
  },
  {
   "cell_type": "code",
   "execution_count": 4,
   "metadata": {},
   "outputs": [
    {
     "name": "stdout",
     "output_type": "stream",
     "text": [
      "Periodo: 2.198 s\n"
     ]
    }
   ],
   "source": [
    "L = 1.2 # longitud en m\n",
    "g = 9.81 # gravedad en m/s^2\n",
    "\n",
    "# calculo del periodo\n",
    "T = round(2 * np.pi * np.sqrt(L/g), 3) # periodo en s\n",
    "print(\"Periodo:\", T, \"s\")"
   ]
  },
  {
   "cell_type": "markdown",
   "metadata": {},
   "source": [
    "# Datos\n",
    "\n",
    "$L = 1.2 m$\n",
    "\n",
    "$g = 9.81 m/s^2$"
   ]
  },
  {
   "cell_type": "markdown",
   "metadata": {},
   "source": [
    "# Solución\n",
    "\n",
    "## Operaciones en base al código previo\n",
    "\n",
    "Calculo del periodo: \n",
    "\n",
    "$T = 2\\pi\\sqrt{\\frac{L}{g}} = 2\\pi\\sqrt{\\frac{1.2}{9.81}} = 2.198 s$\n",
    "\n",
    "Simulación:\n",
    "![Pendulo](simulacion-pendulo-simple.png)"
   ]
  },
  {
   "cell_type": "markdown",
   "metadata": {},
   "source": [
    "----"
   ]
  },
  {
   "cell_type": "markdown",
   "metadata": {},
   "source": [
    "# Principio de Superposición de Ondas\n",
    "\n",
    "## Problema\n",
    "\n",
    "Dado el principio de superposición de onda resuelve el siguiente problema aplicado:\n",
    "\n",
    "Se requiere conocer la sumatoria analítica de dos ondas mecánicas, las cuales están en el eje horizontal y con dirección hacia el este. \n",
    "Sabemos que las ondas mecánicas tienen la siguiente descripción matemática:\n",
    "\n",
    "$y_1 = 3\\sin(2x - 8t), y_2 = 3sin(-3x + 4t - \\pi)$"
   ]
  },
  {
   "cell_type": "markdown",
   "metadata": {},
   "source": [
    "# Solución\n",
    "\n",
    "## Sumatoria analítica\n",
    "\n",
    "$y_1 = 3\\sin(2x - 8t), y_2 = 3sin(-3x + 4t - \\pi)$\n",
    "\n",
    "$y_{total}(x,t) = y_1(x,t) + y_2(x,t)$\n",
    "\n",
    "$\\therefore y_{total}(x,t) = 3\\sin(2x - 8t) + 3sin(-3x + 4t - \\pi)$"
   ]
  },
  {
   "cell_type": "markdown",
   "metadata": {},
   "source": [
    "-----"
   ]
  },
  {
   "cell_type": "markdown",
   "metadata": {},
   "source": [
    "# Efecto Doppler\n",
    "\n",
    "Una ambulancia viaja al este por una carretera con velocidad 33 m/s; su sirena emite sonido con una frecuencia de 400 Hz. ¿Qué frecuencia escucha una persona en un auto que viaja al oeste con velocidad 24 m/s? De ser necesario guíate con el simulador de VASCAK y agrega imágenes donde representen la situación del actual problema https://www.vascak.cz/data/android/physicsatschool/template.php?f=kv_doppler&l=es\n",
    "Cuando el auto se acerca a la ambulancia.\n",
    "Cuando el auto se aleja de la ambulancia."
   ]
  },
  {
   "cell_type": "code",
   "execution_count": 5,
   "metadata": {},
   "outputs": [
    {
     "name": "stdout",
     "output_type": "stream",
     "text": [
      "Frecuencia acercandose: 471.473 Hz\n",
      "Frecuencia alejandose: 337.875 Hz\n"
     ]
    }
   ],
   "source": [
    "frecuencia_fuente = 400 # frecuencia en Hz\n",
    "velocidad_sonido = 343 # velocidad del sonido en m/s\n",
    "velocidad_ambulancia = 33 # velocidad de la ambulancia en m/s\n",
    "velocidad_auto = 24 # velocidad del auto en m/s\n",
    "\n",
    "# calculo de la frecuencia percibida por el observador\n",
    "def frecuencia_doppler(frecuencia_fuente, velocidad_sonido, velocidad_observador, velocidad_fuente, acercando=True):\n",
    "    if acercando:\n",
    "        return frecuencia_fuente * ((velocidad_sonido + velocidad_observador) / (velocidad_sonido - velocidad_fuente))\n",
    "    else:\n",
    "        return frecuencia_fuente * ((velocidad_sonido - velocidad_observador) / (velocidad_sonido + velocidad_fuente))\n",
    "    \n",
    "\n",
    "# calculo de la frecuencia acercandose\n",
    "frecuencia_acercandose = frecuencia_doppler(frecuencia_fuente, velocidad_sonido, velocidad_ambulancia, velocidad_auto, acercando=True)\n",
    "print(\"Frecuencia acercandose:\", round(frecuencia_acercandose, 3), \"Hz\")\n",
    "\n",
    "# calculo de la frecuencia alejandose\n",
    "frecuencia_alejandose = frecuencia_doppler(frecuencia_fuente, velocidad_sonido, velocidad_ambulancia, velocidad_auto, acercando=False)\n",
    "print(\"Frecuencia alejandose:\", round(frecuencia_alejandose, 3), \"Hz\")"
   ]
  },
  {
   "cell_type": "markdown",
   "metadata": {},
   "source": [
    "# Datos\n",
    "\n",
    "$f_{ambulancia} = 400 Hz$\n",
    "\n",
    "$v_{sonido} = 343 m/s$\n",
    "\n",
    "$v_{ambulancia} = 33 m/s$\n",
    "\n",
    "$v_{auto} = 24 m/s$"
   ]
  },
  {
   "cell_type": "markdown",
   "metadata": {},
   "source": [
    "# Solución\n",
    "\n",
    "## Operaciones en base al código previo\n",
    "\n",
    "Calculo de la frecuencia:\n",
    "\n",
    "$f' = \\frac{v_{sonido} \\pm v_{auto}}{v_{sonido} \\pm v_{ambulancia}} * f_{ambulancia}$\n",
    "\n",
    "Acercandose:\n",
    "\n",
    "$f' = \\frac{343 + 24}{343 - 33} * 400 = 471.473 Hz$\n",
    "\n",
    "Alejandose:\n",
    "\n",
    "$f' = \\frac{343 - 24}{343 + 33} * 400 = 337.875 Hz$\n",
    "\n",
    "## Simulación\n",
    "\n",
    "![Doppler Acercandose](efecto-doppler-acercandose.png)\n",
    "![Doppler Alejandose](efecto-doppler-alejandose.png)"
   ]
  },
  {
   "cell_type": "markdown",
   "metadata": {},
   "source": [
    "----"
   ]
  },
  {
   "cell_type": "markdown",
   "metadata": {},
   "source": [
    "# Principio de Pascal\n",
    "\n",
    "## Problema\n",
    "\n",
    "En un taller mecánico cuentan con una prensa hidráulica, la cual tiene dos extremos, \n",
    "un pedal cuadrado de 10 cm de lado y el otro con un área de 3 m2, si en el pedal se \n",
    "para una persona de 90 kg, determina la fuerza que produce del otro lado.\n",
    "\n",
    "Si del extremo del pedal se encuentra una persona de 75 kg, ¿producirá la fuerza \n",
    "necesaria para levantar a un automóvil de una tonelada del otro lado?"
   ]
  },
  {
   "cell_type": "code",
   "execution_count": 28,
   "metadata": {},
   "outputs": [
    {
     "name": "stdout",
     "output_type": "stream",
     "text": [
      "Fuerza del pedal chico: 88290.0 N\n",
      "Fuerza producida del otro lado del pedal con la persona de 90 kg: 294.3 N\n",
      "Fuerza del pedal chico: 73575.0 N\n",
      "Fuerza producida del otro lado del pedal con la persona de 75 kg: 245.25 N\n",
      "Fuerza para levantar el auto: 9810.0 N\n",
      "¿Es suficiente la fuerza producida para levantar el auto? 245.25N >= 9810.0N: False\n"
     ]
    }
   ],
   "source": [
    "g = 9.81 # gravedad en m/s^2\n",
    "area_pedal = 0.01 # area del pedal chico en m^2\n",
    "area_prensa = 3 # area del pedal grande en m^2\n",
    "p_90 = 90 # peso en kg\n",
    "\n",
    "# calculo de la fuerza del pedal chico\n",
    "def principio_de_pascal(masa, area):\n",
    "    return ((masa * g) / area)\n",
    "\n",
    "fuerza_1 = principio_de_pascal(p_90, area_pedal)\n",
    "print(\"Fuerza del pedal chico:\", fuerza_1, \"N\")\n",
    "\n",
    "def regla_de_tres(a, b, c):\n",
    "    return (a * b) / c \n",
    "\n",
    "# calculo de la fuerza producida del otro lado con la persona de 90 kg\n",
    "fuerza_producida = regla_de_tres(fuerza_1, area_pedal, area_prensa)\n",
    "print(\"Fuerza producida del otro lado del pedal con la persona de 90 kg:\", fuerza_producida, \"N\")\n",
    "\n",
    "\n",
    "\n",
    "# calculo para levantar un automovil de 1000 kg con una persona de 75 kg\n",
    "p_75 = 75 # peso en kg\n",
    "\n",
    "# calculo de la fuerza del pedal chico\n",
    "fuerza_1 = principio_de_pascal(p_75, area_pedal)\n",
    "print(\"Fuerza del pedal chico:\", fuerza_1, \"N\")\n",
    "\n",
    "# calculo de la fuerza producida del otro lado con la persona de 75 kg\n",
    "fuerza_producida = regla_de_tres(fuerza_1, area_pedal, area_prensa)\n",
    "print(\"Fuerza producida del otro lado del pedal con la persona de 75 kg:\", fuerza_producida, \"N\")\n",
    "\n",
    "fuerza_para_levantar_auto = 1000 * g\n",
    "print(\"Fuerza para levantar el auto:\", fuerza_para_levantar_auto, \"N\")\n",
    "\n",
    "es_suficiente = fuerza_para_levantar_auto <= fuerza_producida\n",
    "\n",
    "print(f\"¿Es suficiente la fuerza producida para levantar el auto? {fuerza_producida}N >= {fuerza_para_levantar_auto}N: {es_suficiente}\")\n",
    "\n"
   ]
  },
  {
   "cell_type": "markdown",
   "metadata": {},
   "source": [
    "# Datos\n",
    "\n",
    "$A_1 = 10cm = 10^{2} cm = 100cm = 0.01 m^{2}$\n",
    "\n",
    "$A_2 = 3 m^{2}$\n",
    "\n",
    "$g = 9.81 m/s^2$\n",
    "\n",
    "$m_1 = 90 kg$\n",
    "\n",
    "$m_2 = 75 kg$"
   ]
  },
  {
   "cell_type": "markdown",
   "metadata": {},
   "source": [
    "# Solución\n",
    "\n",
    "## Operaciones en base al código previo\n",
    "\n",
    "Calculo de la fuerza producida con la persona de 90 kg:\n",
    "\n",
    "$F_1 = \\frac{m_1g}{A_1} = \\frac{90(9.81)}{0.01} = 88290 N$\n",
    "\n",
    "$F_2 = \\frac{F_1 \\cdot A_1}{A_2} = \\frac{88290\\cdot0.01}{3} = 294.3 N$\n",
    "\n",
    "\n",
    "Calculo para levantar el automovil de una tonelada con la persona de 75 kg:\n",
    "\n",
    "$F_1 = \\frac{m_2g}{A_1} = \\frac{75 \\cdot 9.81}{0.01} = 73573.25 N$\n",
    "\n",
    "$F_2 = \\frac{F_1 \\cdot A_1}{A_2} = \\frac{73573.25\\cdot0.01}{3} = 245.244 N$\n",
    "\n",
    "Fuerza necesaria para levantar el automovil de una tonelada:\n",
    "\n",
    "$F_{auto} = 1000 \\cdot 9.81 = 9810 N$\n",
    "\n",
    "\n",
    "Es decir, no se puede levantar el automovil con la persona de 75 kg\n",
    "\n",
    "$\\therefore F_2 < F_{auto}$\n"
   ]
  },
  {
   "cell_type": "markdown",
   "metadata": {},
   "source": [
    "----"
   ]
  },
  {
   "cell_type": "markdown",
   "metadata": {},
   "source": [
    "# Principio de Bernoulli\n",
    "\n",
    "## Problema\n",
    "\n",
    "Por una tubería de 3.81 cm de diámetro circula agua a una velocidad de 3 m/s. \n",
    "En una parte de la tubería hay un estrechamiento y el diámetro es de 2.54 cm.\n",
    "\n",
    "¿Qué velocidad llevará el agua en ese punto? \n",
    "\n",
    "Con base al simulador dado por VASCAK \n",
    "muestra el esquema que se relaciona con este problema https://www.vascak.cz/data/android/physicsatschool/template.php?f=mech_bernoulli&l=es"
   ]
  },
  {
   "cell_type": "code",
   "execution_count": 30,
   "metadata": {},
   "outputs": [
    {
     "name": "stdout",
     "output_type": "stream",
     "text": [
      "Area de la tuberia 1: 0.00114009182796937 m^2\n",
      "Area de la tuberia 2: 0.0005067074790974977 m^2\n",
      "Caudal: 6.750000000000001 m^3/s\n"
     ]
    }
   ],
   "source": [
    "diametro_1 = 0.0381 # diametro de la tuberia 1 en m\n",
    "diametro_2 = 0.0254 # diametro de la tuberia 2 en m\n",
    "velocidad_del_agua = 3 # velocidad del agua en m/s\n",
    "\n",
    "# calculo del area de la tuberia 1\n",
    "def area(diametro):\n",
    "    return np.pi * ((diametro / 2) ** 2)\n",
    "\n",
    "area_1 = area(diametro_1)\n",
    "print(\"Area de la tuberia 1:\", area_1, \"m^2\")\n",
    "\n",
    "# calculo del area de la tuberia 2\n",
    "area_2 = area(diametro_2)\n",
    "print(\"Area de la tuberia 2:\", area_2, \"m^2\")\n",
    "\n",
    "# calculo del caudal\n",
    "def caudal(a_1, a_2, v):\n",
    "    return a_1 * v / a_2\n",
    "\n",
    "caudal = caudal(area_1, area_2, velocidad_del_agua)\n",
    "print(\"Caudal:\", caudal, \"m^3/s\")"
   ]
  },
  {
   "cell_type": "markdown",
   "metadata": {},
   "source": [
    "# Datos\n",
    "\n",
    "$D_1 = 3.81 cm = 0.0381 m$\n",
    "\n",
    "$D_2 = 2.54 cm = 0.0254 m$\n",
    "\n",
    "$v_1 = 3 m/s$"
   ]
  },
  {
   "cell_type": "markdown",
   "metadata": {},
   "source": [
    "# Solución\n",
    "\n",
    "## Operaciones en base al código previo\n",
    "\n",
    "Formula de continuidad:\n",
    "\n",
    "$A_1V_1 = A_2V_2$\n",
    "\n",
    "$\\therefore V_2 = \\frac{A_1V_1}{A_2}$\n",
    "\n",
    "Calculo de las areas:\n",
    "\n",
    "$A_1 = \\pi r^2 = \\pi \\frac{(D_1)^{2}}{2} = \\pi\\frac{(0.0381)^2}{2} = 0.00114 m^2$\n",
    "\n",
    "$A_2 = \\pi r^2 = \\pi \\frac{(D_2)^{2}}{2} = \\pi\\frac{(0.0254)^2}{2} = 0.00051 m^2$\n",
    "\n",
    "Calculo de la velocidad:\n",
    "\n",
    "$V_2 = \\frac{A_1V_1}{A_2} = \\frac{0.00114 \\cdot 3}{0.00051} = 6.75 m/s$\n",
    "\n",
    "## Simulación\n",
    "\n",
    "![Bernoulli](principio-de-bernoulli.png)"
   ]
  }
 ],
 "metadata": {
  "kernelspec": {
   "display_name": ".venv",
   "language": "python",
   "name": "python3"
  },
  "language_info": {
   "codemirror_mode": {
    "name": "ipython",
    "version": 3
   },
   "file_extension": ".py",
   "mimetype": "text/x-python",
   "name": "python",
   "nbconvert_exporter": "python",
   "pygments_lexer": "ipython3",
   "version": "3.11.7"
  }
 },
 "nbformat": 4,
 "nbformat_minor": 2
}
