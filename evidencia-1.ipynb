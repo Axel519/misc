{
 "cells": [
  {
   "cell_type": "code",
   "execution_count": 6,
   "metadata": {},
   "outputs": [
    {
     "name": "stdout",
     "output_type": "stream",
     "text": [
      "Requirement already satisfied: appnope==0.1.3 in ./.venv/lib/python3.11/site-packages (from -r requirements.txt (line 1)) (0.1.3)\n",
      "Requirement already satisfied: asttokens==2.4.1 in ./.venv/lib/python3.11/site-packages (from -r requirements.txt (line 2)) (2.4.1)\n",
      "Requirement already satisfied: comm==0.2.1 in ./.venv/lib/python3.11/site-packages (from -r requirements.txt (line 3)) (0.2.1)\n",
      "Requirement already satisfied: debugpy==1.8.0 in ./.venv/lib/python3.11/site-packages (from -r requirements.txt (line 4)) (1.8.0)\n",
      "Requirement already satisfied: decorator==5.1.1 in ./.venv/lib/python3.11/site-packages (from -r requirements.txt (line 5)) (5.1.1)\n",
      "Requirement already satisfied: executing==2.0.1 in ./.venv/lib/python3.11/site-packages (from -r requirements.txt (line 6)) (2.0.1)\n",
      "Requirement already satisfied: ipykernel==6.29.0 in ./.venv/lib/python3.11/site-packages (from -r requirements.txt (line 7)) (6.29.0)\n",
      "Requirement already satisfied: ipython==8.20.0 in ./.venv/lib/python3.11/site-packages (from -r requirements.txt (line 8)) (8.20.0)\n",
      "Requirement already satisfied: jedi==0.19.1 in ./.venv/lib/python3.11/site-packages (from -r requirements.txt (line 9)) (0.19.1)\n",
      "Requirement already satisfied: jupyter_client==8.6.0 in ./.venv/lib/python3.11/site-packages (from -r requirements.txt (line 10)) (8.6.0)\n",
      "Requirement already satisfied: jupyter_core==5.7.1 in ./.venv/lib/python3.11/site-packages (from -r requirements.txt (line 11)) (5.7.1)\n",
      "Requirement already satisfied: matplotlib-inline==0.1.6 in ./.venv/lib/python3.11/site-packages (from -r requirements.txt (line 12)) (0.1.6)\n",
      "Requirement already satisfied: nest-asyncio==1.6.0 in ./.venv/lib/python3.11/site-packages (from -r requirements.txt (line 13)) (1.6.0)\n",
      "Requirement already satisfied: numpy==1.26.3 in ./.venv/lib/python3.11/site-packages (from -r requirements.txt (line 14)) (1.26.3)\n",
      "Requirement already satisfied: packaging==23.2 in ./.venv/lib/python3.11/site-packages (from -r requirements.txt (line 15)) (23.2)\n",
      "Requirement already satisfied: parso==0.8.3 in ./.venv/lib/python3.11/site-packages (from -r requirements.txt (line 16)) (0.8.3)\n",
      "Requirement already satisfied: pexpect==4.9.0 in ./.venv/lib/python3.11/site-packages (from -r requirements.txt (line 17)) (4.9.0)\n",
      "Requirement already satisfied: platformdirs==4.1.0 in ./.venv/lib/python3.11/site-packages (from -r requirements.txt (line 18)) (4.1.0)\n",
      "Requirement already satisfied: prompt-toolkit==3.0.43 in ./.venv/lib/python3.11/site-packages (from -r requirements.txt (line 19)) (3.0.43)\n",
      "Requirement already satisfied: psutil==5.9.8 in ./.venv/lib/python3.11/site-packages (from -r requirements.txt (line 20)) (5.9.8)\n",
      "Requirement already satisfied: ptyprocess==0.7.0 in ./.venv/lib/python3.11/site-packages (from -r requirements.txt (line 21)) (0.7.0)\n",
      "Requirement already satisfied: pure-eval==0.2.2 in ./.venv/lib/python3.11/site-packages (from -r requirements.txt (line 22)) (0.2.2)\n",
      "Requirement already satisfied: Pygments==2.17.2 in ./.venv/lib/python3.11/site-packages (from -r requirements.txt (line 23)) (2.17.2)\n",
      "Requirement already satisfied: python-dateutil==2.8.2 in ./.venv/lib/python3.11/site-packages (from -r requirements.txt (line 24)) (2.8.2)\n",
      "Requirement already satisfied: pyzmq==25.1.2 in ./.venv/lib/python3.11/site-packages (from -r requirements.txt (line 25)) (25.1.2)\n",
      "Requirement already satisfied: six==1.16.0 in ./.venv/lib/python3.11/site-packages (from -r requirements.txt (line 26)) (1.16.0)\n",
      "Requirement already satisfied: stack-data==0.6.3 in ./.venv/lib/python3.11/site-packages (from -r requirements.txt (line 27)) (0.6.3)\n",
      "Requirement already satisfied: tornado==6.4 in ./.venv/lib/python3.11/site-packages (from -r requirements.txt (line 28)) (6.4)\n",
      "Requirement already satisfied: traitlets==5.14.1 in ./.venv/lib/python3.11/site-packages (from -r requirements.txt (line 29)) (5.14.1)\n",
      "Requirement already satisfied: wcwidth==0.2.13 in ./.venv/lib/python3.11/site-packages (from -r requirements.txt (line 30)) (0.2.13)\n"
     ]
    }
   ],
   "source": [
    "!pip install -r requirements.txt"
   ]
  },
  {
   "cell_type": "code",
   "execution_count": 7,
   "metadata": {},
   "outputs": [],
   "source": [
    "import numpy as np"
   ]
  },
  {
   "cell_type": "markdown",
   "metadata": {},
   "source": [
    "# Sistema Masa Resorte\n",
    "\n",
    "## Problema\n",
    "\n",
    "Considera un sistema masa-resorte en un plano horizontal, en el cual un resorte está unido a un punto fijo \n",
    "y del otro extremo a una masa de 0.5 kg, se inicia el movimiento con el resorte estirado a 10 cm, por último, \n",
    "sabemos que la constante del resorte es de 50 N/m.\n",
    "Determina el periodo del sistema.\n",
    "\n",
    "Obtén:\n",
    "* Posición\n",
    "* Velocidad \n",
    "* Aceleración \n",
    "\n",
    "en un tiempo de un segundo."
   ]
  },
  {
   "cell_type": "code",
   "execution_count": 45,
   "metadata": {},
   "outputs": [
    {
     "name": "stdout",
     "output_type": "stream",
     "text": [
      "Frecuencia angular: 10.000 rad/s\n",
      "Periodo:  0.628 s\n",
      "Frecuencia: 1.592 Hz\n",
      "Posición x(t): -0.084 m\n",
      "Velocidad v(t): 54.402 cm/s\n",
      "Aceleración a(t):  8.391 m/s^2\n"
     ]
    }
   ],
   "source": [
    "m = 0.5 # masa en kg\n",
    "k = 50 # constante del resorte en N/m\n",
    "A = 0.1 # amplitud en m\n",
    "t = 1 # tiempo en s para calcular la posición\n",
    "\n",
    "# calculo de la frecuencia angular\n",
    "omega = np.sqrt(k/m) # frecuencia angular en rad/s\n",
    "print(\"Frecuencia angular:\", f\"{omega:.3f}\", \"rad/s\")\n",
    "\n",
    "# calculo del periodo\n",
    "T = round(2 * np.pi * np.sqrt(m/k), 3) # periodo en s\n",
    "print(\"Periodo: \", f\"{T:.3f}\", \"s\")\n",
    "\n",
    "# calculo de la frecuencia\n",
    "f = round(1/T, 3) # frecuencia en Hz\n",
    "print(\"Frecuencia:\", f, \"Hz\")\n",
    "\n",
    "# calculo de la posición\n",
    "x_t = round(A * np.cos(omega * t), 3)\n",
    "print(\"Posición x(t):\", x_t, \"m\")\n",
    "\n",
    "# calculo de la velocidad en cm/s\n",
    "v_t = round(-A * omega * np.sin(omega * t) * 100, 3)\n",
    "print(\"Velocidad v(t):\", v_t, \"cm/s\")\n",
    "\n",
    "# calculo de la aceleración\n",
    "a_t = round(-A * (omega ** 2) * np.cos(omega * t), 3)\n",
    "print(\"Aceleración a(t): \", a_t, \"m/s^2\")\n"
   ]
  },
  {
   "cell_type": "markdown",
   "metadata": {},
   "source": [
    "### Datos\n",
    "\n",
    "$m = 0.5 kg$\n",
    "\n",
    "$k = 50 N/m$\n",
    "\n",
    "$A = 10cm = 0.1 m$\n",
    "\n",
    "$t = 1 s$\n",
    "\n",
    "$\\phi = 0$\n",
    "\n",
    "$\\omega = \\sqrt{\\frac{k}{m}} = \\sqrt{\\frac{50}{0.5}} = 10$"
   ]
  },
  {
   "cell_type": "markdown",
   "metadata": {},
   "source": []
  },
  {
   "cell_type": "markdown",
   "metadata": {},
   "source": [
    "# Solución\n",
    "\n",
    "## Operaciones en base al código previo\n",
    "\n",
    "Calculo del periodo: $T = 2\\pi\\sqrt{\\frac{m}{k}} = 2\\pi\\sqrt{\\frac{0.5}{50}} = 0.628 s$\n",
    "\n",
    "Calculo de la frecuencia: $f = \\frac{1}{T} = \\frac{1}{0.628} = 1.592 Hz$\n",
    "\n",
    "Calculo de la posición: $X(t) = A\\cos(\\omega t + \\phi) = 0.1\\cos(10t + \\phi) = 0.1\\cos(10t) = 0.1\\cos(10) = 0.1(-0.839) = -0.084 m$\n",
    "\n",
    "Calculo de la velocidad: $v(t) = -A\\omega\\sin(\\omega t + \\phi) = -0.1(10)\\sin(10t + \\phi) = -0.1(10)\\sin(10t) = -0.1(10)\\sin(10) = -0.1(0.544) = -0.05402 m/s = 54.402 cm/s$\n",
    "\n",
    "Calculo de la aceleracion: $a(t) = -A\\omega^2\\cos(\\omega t + \\phi) = -0.1(10)^2\\cos(10t + \\phi) = -0.1(10)^2\\cos(10t) = -0.1(10)^2\\cos(10) = -0.1(10)^2(-0.839) = -8.391 m/s^2$\n"
   ]
  },
  {
   "cell_type": "markdown",
   "metadata": {},
   "source": []
  }
 ],
 "metadata": {
  "kernelspec": {
   "display_name": ".venv",
   "language": "python",
   "name": "python3"
  },
  "language_info": {
   "codemirror_mode": {
    "name": "ipython",
    "version": 3
   },
   "file_extension": ".py",
   "mimetype": "text/x-python",
   "name": "python",
   "nbconvert_exporter": "python",
   "pygments_lexer": "ipython3",
   "version": "3.11.7"
  }
 },
 "nbformat": 4,
 "nbformat_minor": 2
}
